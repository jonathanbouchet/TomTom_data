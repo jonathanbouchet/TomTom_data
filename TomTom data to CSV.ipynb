{
 "cells": [
  {
   "cell_type": "markdown",
   "metadata": {},
   "source": [
    "TomTom ttbin format decoding : credits to Dan Lenski (https://github.com/dlenski)"
   ]
  },
  {
   "cell_type": "code",
   "execution_count": 13,
   "metadata": {
    "collapsed": true
   },
   "outputs": [],
   "source": [
    "import pandas as pd\n",
    "import numpy as np\n",
    "import re\n",
    "filename = '/Users/jonathanbouchet/Desktop/WORK/PERSO/RUNNING/log1'"
   ]
  },
  {
   "cell_type": "code",
   "execution_count": 14,
   "metadata": {
    "collapsed": true
   },
   "outputs": [],
   "source": [
    "tempo = pd.DataFrame(columns=('latitude','longitude','heading','gps_speed','timestamp','calories','instant_speed','cumul_distance','cycles'))"
   ]
  },
  {
   "cell_type": "code",
   "execution_count": 15,
   "metadata": {
    "collapsed": true
   },
   "outputs": [],
   "source": [
    "#convert latitude\n",
    "def newLat(lat):\n",
    "    if (lat>=0):\n",
    "        return float(lat)/10000000"
   ]
  },
  {
   "cell_type": "code",
   "execution_count": 16,
   "metadata": {
    "collapsed": true
   },
   "outputs": [],
   "source": [
    "#convert longitude\n",
    "def newLong(long):\n",
    "    if (long>=0):\n",
    "        return -1*float(long)/10000000"
   ]
  },
  {
   "cell_type": "code",
   "execution_count": 17,
   "metadata": {
    "collapsed": true
   },
   "outputs": [],
   "source": [
    "#regexp to find GPS data from log file\n",
    "def SaveToDf(mystr,location):\n",
    "    str2 = mystr.split('(')[1]\n",
    "    str2.split(',')\n",
    "    tempo.loc[location] = re.findall(r\"[-+]?\\d*\\.\\d+|\\d+\",str2)"
   ]
  },
  {
   "cell_type": "code",
   "execution_count": 18,
   "metadata": {
    "collapsed": false
   },
   "outputs": [],
   "source": [
    "counter=0\n",
    "for line in open(filename):\n",
    "    lines = line.rstrip('\\n')\n",
    "    match = re.search( r\"FILE_GPS_RECORD\\(\", lines)\n",
    "    if(match):\n",
    "        #print \"search -->\", match.group()\n",
    "        #print lines\n",
    "        str2 = lines.split('(')[1]\n",
    "        str2.split(',')\n",
    "        #print str2\n",
    "        SaveToDf(lines,counter)\n",
    "        counter=counter+1"
   ]
  },
  {
   "cell_type": "code",
   "execution_count": 19,
   "metadata": {
    "collapsed": true
   },
   "outputs": [],
   "source": [
    "tempo['correctLat'] = tempo['latitude'].apply(newLat)\n",
    "tempo['correctLong'] = tempo['longitude'].apply(newLong)\n",
    "tempo.to_csv('testAll.csv', sep='\\t',encoding='utf-8')"
   ]
  },
  {
   "cell_type": "code",
   "execution_count": null,
   "metadata": {
    "collapsed": true
   },
   "outputs": [],
   "source": []
  }
 ],
 "metadata": {
  "kernelspec": {
   "display_name": "Python 2",
   "language": "python",
   "name": "python2"
  },
  "language_info": {
   "codemirror_mode": {
    "name": "ipython",
    "version": 2
   },
   "file_extension": ".py",
   "mimetype": "text/x-python",
   "name": "python",
   "nbconvert_exporter": "python",
   "pygments_lexer": "ipython2",
   "version": "2.7.11"
  }
 },
 "nbformat": 4,
 "nbformat_minor": 0
}
